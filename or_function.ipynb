{
  "nbformat": 4,
  "nbformat_minor": 0,
  "metadata": {
    "colab": {
      "name": "or_function.ipynb",
      "provenance": [],
      "collapsed_sections": [],
      "authorship_tag": "ABX9TyOdW0HGSxh2S7wjGrfJhS3J",
      "include_colab_link": true
    },
    "kernelspec": {
      "name": "python3",
      "display_name": "Python 3"
    },
    "language_info": {
      "name": "python"
    }
  },
  "cells": [
    {
      "cell_type": "markdown",
      "metadata": {
        "id": "view-in-github",
        "colab_type": "text"
      },
      "source": [
        "<a href=\"https://colab.research.google.com/github/Akutagawa50/Google_Colaboratory/blob/main/or_function.ipynb\" target=\"_parent\"><img src=\"https://colab.research.google.com/assets/colab-badge.svg\" alt=\"Open In Colab\"/></a>"
      ]
    },
    {
      "cell_type": "markdown",
      "metadata": {
        "id": "VpKeqmE_Q73D"
      },
      "source": [
        "# 授業内容"
      ]
    },
    {
      "cell_type": "markdown",
      "metadata": {
        "id": "6vl04lGHFU_m"
      },
      "source": [
        "## ライブラリのインポート\n",
        "numpy，matplotlib，confusion_matrixをインポート"
      ]
    },
    {
      "cell_type": "code",
      "metadata": {
        "id": "c-2132-3FUOT"
      },
      "source": [
        "import numpy as np\n",
        "import matplotlib.pyplot as plt\n",
        "from sklearn.metrics import confusion_matrix"
      ],
      "execution_count": 40,
      "outputs": []
    },
    {
      "cell_type": "markdown",
      "metadata": {
        "id": "4Y9YpFULRCgf"
      },
      "source": [
        "## 形式ニューロンを関数で実装"
      ]
    },
    {
      "cell_type": "code",
      "metadata": {
        "id": "g32XtLriRKor"
      },
      "source": [
        "def formal_neuron(x1,x2):\n",
        "  w1 = 2.0\n",
        "  w2 = 1.0\n",
        "  theta = -1\n",
        "  h= w1*x1 + w2*x2\n",
        "  return 1 * (h > theta)\n",
        "  "
      ],
      "execution_count": 36,
      "outputs": []
    },
    {
      "cell_type": "code",
      "metadata": {
        "colab": {
          "base_uri": "https://localhost:8080/"
        },
        "id": "W3Gr4g0kSEpW",
        "outputId": "6cb11f72-00b8-4cb6-de9e-e299eda34f69"
      },
      "source": [
        "for i in range(2):\n",
        "  for j in range(2):\n",
        "    print(formal_neuron(i,j))"
      ],
      "execution_count": 37,
      "outputs": [
        {
          "output_type": "stream",
          "text": [
            "1\n",
            "1\n",
            "1\n",
            "1\n"
          ],
          "name": "stdout"
        }
      ]
    },
    {
      "cell_type": "markdown",
      "metadata": {
        "id": "76FQfOvZSmM9"
      },
      "source": [
        "## OR関数を実装"
      ]
    },
    {
      "cell_type": "code",
      "metadata": {
        "id": "QlTasyqPSrSJ"
      },
      "source": [
        "def or_func(x1,x2):\n",
        "  w1 = 1.10 #重み1,決め打ち\n",
        "  w2 = 1.10 #重み2，決め打ち\n",
        "  theta = 1 #閾値\n",
        "  #h= w1*x1 + w2*x2\n",
        "  h= w1*x1 + w2*x2 - theta\n",
        "  return 1 * (h > 0)"
      ],
      "execution_count": 46,
      "outputs": []
    },
    {
      "cell_type": "code",
      "metadata": {
        "colab": {
          "base_uri": "https://localhost:8080/"
        },
        "id": "V-8cvruoS31y",
        "outputId": "c43b321a-7417-48ad-e230-4847131b9f5f"
      },
      "source": [
        "for i in range(2):\n",
        "  for j in range(2):\n",
        "    print(or_func(i,j))"
      ],
      "execution_count": 47,
      "outputs": [
        {
          "output_type": "stream",
          "text": [
            "0\n",
            "1\n",
            "1\n",
            "1\n"
          ],
          "name": "stdout"
        }
      ]
    },
    {
      "cell_type": "markdown",
      "metadata": {
        "id": "wfVAkTIxUx3-"
      },
      "source": [
        "## 単位ステップ関数"
      ]
    },
    {
      "cell_type": "code",
      "metadata": {
        "colab": {
          "base_uri": "https://localhost:8080/",
          "height": 296
        },
        "id": "1awtVjfEUxU8",
        "outputId": "8d27df68-684c-4079-fe67-c9197f0f5772"
      },
      "source": [
        "x=np.linspace(-1,1,1000)\n",
        "y=1*(x>0)\n",
        "plt.plot(x,y)\n",
        "plt.xlabel(\"x\")\n",
        "plt.ylabel(\"U(x)\")"
      ],
      "execution_count": 44,
      "outputs": [
        {
          "output_type": "execute_result",
          "data": {
            "text/plain": [
              "Text(0, 0.5, 'U(x)')"
            ]
          },
          "metadata": {
            "tags": []
          },
          "execution_count": 44
        },
        {
          "output_type": "display_data",
          "data": {
            "image/png": "[encoded data removed]",
            "text/plain": [
              "<Figure size 432x288 with 1 Axes>"
            ]
          },
          "metadata": {
            "tags": [],
            "needs_background": "light"
          }
        }
      ]
    },
    {
      "cell_type": "markdown",
      "metadata": {
        "id": "kgj6kLBVWzDO"
      },
      "source": [
        "\n",
        "$x_1$を$x$軸，$x_2$を$y$軸にとると，or_funcの中の計算は\n",
        "$$w_1\\times x + w_2 \\times y - \\theta>0$$\n",
        "と書き換えられる\n",
        "また出力が変化する境界を表す直線は\n",
        "$$w_1\\times x + w_2 \\times y - \\theta=0$$\n",
        "で表せる．これを$y$について変形すると\n",
        "$$y=-\\frac{w_1}{w_2}\\times x + w_2  + \\frac{\\theta}{w_2}$$\n",
        "ここで$\\frac{\\theta}{w_2}$は定数になるので，これを改めて$\\theta$とおく\n",
        "$$y=-\\frac{w_1}{w_2}\\times x + w_2  + \\theta$$\n",
        "この直線を**識別平面**という．"
      ]
    },
    {
      "cell_type": "code",
      "metadata": {
        "colab": {
          "base_uri": "https://localhost:8080/",
          "height": 296
        },
        "id": "Wv1meCc6Y9th",
        "outputId": "87b905f8-672b-46a5-ac21-df8b6a41801f"
      },
      "source": [
        "x=np.linspace(-0.1, 1)\n",
        "y=-(1.1/1.1)*x+(1/1.1)\n",
        "plt.xlim(-0.1,1.1)\n",
        "plt.ylim(-0.1,1.1)\n",
        "plt.xlabel(\"x1\")\n",
        "plt.ylabel(\"x2\")\n",
        "plt.plot(0,0,'bo', label=\"0\")\n",
        "plt.plot(0,1,'ro', label=\"1\")\n",
        "plt.plot(1,0,'ro')\n",
        "plt.plot(1,1,'ro')\n",
        "plt.plot(x,y)\n",
        "plt.legend()"
      ],
      "execution_count": 48,
      "outputs": [
        {
          "output_type": "execute_result",
          "data": {
            "text/plain": [
              "<matplotlib.legend.Legend at 0x7fd8988b7f50>"
            ]
          },
          "metadata": {
            "tags": []
          },
          "execution_count": 48
        },
        {
          "output_type": "display_data",
          "data": {
            "image/png": "[encoded data removed]",
            "text/plain": [
              "<Figure size 432x288 with 1 Axes>"
            ]
          },
          "metadata": {
            "tags": [],
            "needs_background": "light"
          }
        }
      ]
    },
    {
      "cell_type": "markdown",
      "metadata": {
        "id": "3GyMPQ35bIAM"
      },
      "source": [
        "## パーセプトロンの学習"
      ]
    },
    {
      "cell_type": "code",
      "metadata": {
        "id": "DB5IENO8bNy3"
      },
      "source": [
        "from sklearn.datasets import load_iris"
      ],
      "execution_count": 49,
      "outputs": []
    },
    {
      "cell_type": "code",
      "metadata": {
        "id": "ceUMOK8NbxVG"
      },
      "source": [
        "iris=load_iris() #データセットを読み込む\n",
        "X=iris.data[:100] #100個目までのデータセットを読み込む\n",
        "y=iris.target[:100] "
      ],
      "execution_count": 50,
      "outputs": []
    },
    {
      "cell_type": "markdown",
      "metadata": {
        "id": "S1xV8n_3LdTo"
      },
      "source": [
        "## 単純パーセプトロンを関数化\n",
        "\n"
      ]
    },
    {
      "cell_type": "code",
      "metadata": {
        "id": "pwLYhGmfLlqJ"
      },
      "source": [
        "def perceptron(w,x):\n",
        "  xT=np.array(x,ndmin=2).T\n",
        "  h=np.dot(w[:-1],xT)+w[-1]\n",
        "  return 1*(h>0)"
      ],
      "execution_count": 56,
      "outputs": []
    },
    {
      "cell_type": "markdown",
      "metadata": {
        "id": "tUHkzcjRcTml"
      },
      "source": [
        "## 学習条件の設計，初期化"
      ]
    },
    {
      "cell_type": "code",
      "metadata": {
        "colab": {
          "base_uri": "https://localhost:8080/"
        },
        "id": "1sy_YJkPcemO",
        "outputId": "c2b4360b-2ef1-4f4e-ea70-af34eab838df"
      },
      "source": [
        "w=np.random.rand(5) #パラメータ４つ + 閾値\n",
        "learning_rate=0.01 #学習率\n",
        "epoch = 100 #学習回数\n",
        "print(w) #ランダムなwの初期値を出力"
      ],
      "execution_count": 81,
      "outputs": [
        {
          "output_type": "stream",
          "text": [
            "[0.9311977  0.03077871 0.33142704 0.27890777 0.23333209]\n"
          ],
          "name": "stdout"
        }
      ]
    },
    {
      "cell_type": "markdown",
      "metadata": {
        "id": "tHzAydG8KYyZ"
      },
      "source": [
        "### 学習前の混同行列を表示\n",
        "混同行列を見ると正答率が50%になっているため，ランダムに答えていると同意になっている．"
      ]
    },
    {
      "cell_type": "code",
      "metadata": {
        "colab": {
          "base_uri": "https://localhost:8080/"
        },
        "id": "3T2kVBkZKkkA",
        "outputId": "615a98f4-f164-4672-af89-c02696633bbf"
      },
      "source": [
        "y_pred=perceptron(w,X)\n",
        "confusion_matrix(y,y_pred)"
      ],
      "execution_count": 54,
      "outputs": [
        {
          "output_type": "execute_result",
          "data": {
            "text/plain": [
              "array([[ 0, 50],\n",
              "       [ 0, 50]])"
            ]
          },
          "metadata": {
            "tags": []
          },
          "execution_count": 54
        }
      ]
    },
    {
      "cell_type": "markdown",
      "metadata": {
        "id": "kGnOloqJdFzM"
      },
      "source": [
        "## 学習パート"
      ]
    },
    {
      "cell_type": "code",
      "metadata": {
        "colab": {
          "base_uri": "https://localhost:8080/"
        },
        "id": "WSdQ0DY0dIu7",
        "outputId": "e804e0d8-9c70-4448-9fe8-0d7ca63eb7db"
      },
      "source": [
        "for i in range(epoch):\n",
        "  for j in range(len(y)):\n",
        "    error=y[j]-perceptron(w,X[j]) #エラーを計算\n",
        "    for k in range(len(w)):\n",
        "      if k==4: #閾値の計算は例外\n",
        "        w[4] += error*learning_rate*1\n",
        "      else:\n",
        "        w[k] += error*learning_rate*X[j,k]\n",
        "print(w)"
      ],
      "execution_count": 82,
      "outputs": [
        {
          "output_type": "stream",
          "text": [
            "[ 0.1491977  -0.49422129  0.10542704  0.24590777  0.07333209]\n"
          ],
          "name": "stdout"
        }
      ]
    },
    {
      "cell_type": "markdown",
      "metadata": {
        "id": "tTGxf4MLemBO"
      },
      "source": [
        "## 学習後の混同行列\n",
        "混同行列から正答率が100%になっていることがわかる"
      ]
    },
    {
      "cell_type": "code",
      "metadata": {
        "colab": {
          "base_uri": "https://localhost:8080/"
        },
        "id": "-TchBkfgeqSn",
        "outputId": "1e80c505-0bc3-4b0d-c605-a76c9154c481"
      },
      "source": [
        "y_pred=perceptron(w,X)\n",
        "confusion_matrix(y,y_pred)"
      ],
      "execution_count": 83,
      "outputs": [
        {
          "output_type": "execute_result",
          "data": {
            "text/plain": [
              "array([[50,  0],\n",
              "       [ 0, 50]])"
            ]
          },
          "metadata": {
            "tags": []
          },
          "execution_count": 83
        }
      ]
    },
    {
      "cell_type": "markdown",
      "metadata": {
        "id": "f6qjwgg2DlrY"
      },
      "source": [
        "## 活性化関数\n",
        "活性化関数の一種であるシグモイド関数は，微分可能であるり，誤差を連続値にすることができる．\n",
        "$$\\rm{sigmoid}( {\\it{x}} )=\\frac{1}{1+\\it{e}^{-x}}$$"
      ]
    },
    {
      "cell_type": "code",
      "metadata": {
        "id": "OGw8aqqrC1JN"
      },
      "source": [
        "def sigmoid(x):\n",
        "  return 1/(1+np.exp(-x))"
      ],
      "execution_count": 3,
      "outputs": []
    },
    {
      "cell_type": "code",
      "metadata": {
        "colab": {
          "base_uri": "https://localhost:8080/",
          "height": 296
        },
        "id": "9zh9q_8dg5Pa",
        "outputId": "25fcf215-03ce-41d0-b3a6-bf84cf98bf38"
      },
      "source": [
        "x=np.linspace(-10,10,1000)\n",
        "y=sigmoid(x)\n",
        "plt.plot(x,y)\n",
        "plt.xlabel(\"x\")\n",
        "plt.ylabel(\"U(x)\")"
      ],
      "execution_count": 86,
      "outputs": [
        {
          "output_type": "execute_result",
          "data": {
            "text/plain": [
              "Text(0, 0.5, 'U(x)')"
            ]
          },
          "metadata": {
            "tags": []
          },
          "execution_count": 86
        },
        {
          "output_type": "display_data",
          "data": {
            "image/png": "[encoded data removed]",
            "text/plain": [
              "<Figure size 432x288 with 1 Axes>"
            ]
          },
          "metadata": {
            "tags": [],
            "needs_background": "light"
          }
        }
      ]
    },
    {
      "cell_type": "markdown",
      "metadata": {
        "id": "liHTIOTDhoPU"
      },
      "source": [
        "## シグモイド関数を用いたパーセプトロン"
      ]
    },
    {
      "cell_type": "code",
      "metadata": {
        "id": "DdG1i0uQhxvN"
      },
      "source": [
        "def perceptron_sigmoid(w,x):\n",
        "  xT=np.array(x,ndmin=2).T\n",
        "  h=np.dot(w[:-1],xT)+w[-1]\n",
        "  return sigmoid(h)"
      ],
      "execution_count": 100,
      "outputs": []
    },
    {
      "cell_type": "markdown",
      "metadata": {
        "id": "-4Iiv4_JPRxW"
      },
      "source": [
        "# 課題\n",
        "* 3入力のOR関数を機械学習を使って実装する\n",
        "  * 活性化関数はどれでも\n",
        "  * 混同行列を使って結果を可視化\n"
      ]
    },
    {
      "cell_type": "markdown",
      "metadata": {
        "id": "PUOF7YoPGjV6"
      },
      "source": [
        "## 学習"
      ]
    },
    {
      "cell_type": "markdown",
      "metadata": {
        "id": "Nm5oBnEjG2e-"
      },
      "source": [
        "### 学習条件の設定，初期化\n",
        "* 入力: w, X\n",
        "  * w:重みベクトル\n",
        "  * X:入力ベクトルのデータセット\n",
        "\n",
        "* 出力: y\n",
        "* 学習率: learning_rate\n",
        "* エポック: epoch\n"
      ]
    },
    {
      "cell_type": "code",
      "metadata": {
        "colab": {
          "base_uri": "https://localhost:8080/"
        },
        "id": "Lc91hSLtGpQB",
        "outputId": "447aca9c-8a89-49f5-e1ed-dc734536f10d"
      },
      "source": [
        "\n",
        "X=np.array([[0,0,0],[0,0,1],[0,1,0],[0,1,1],[1,0,0],[1,0,1],[1,1,0],[1,1,1]])\n",
        "y=np.array([0,1,1,1,1,1,1,1])\n",
        "w=np.random.rand(len(X[0])+1) #重みベクトル + 閾値\n",
        "learning_rate=0.01 #学習率\n",
        "epoch = 100 #学習回数\n",
        "print(w) #ランダムなwの初期値を出力"
      ],
      "execution_count": 113,
      "outputs": [
        {
          "output_type": "stream",
          "text": [
            "[0.92152365 0.78294563 0.02583021 0.93438942]\n"
          ],
          "name": "stdout"
        }
      ]
    },
    {
      "cell_type": "markdown",
      "metadata": {
        "id": "IsuXfWHHh-g8"
      },
      "source": [
        "### 学習前の混同行列を表示\n",
        "混同行列を見ると入力[0,0,0]の認識ができていないことがわかる．"
      ]
    },
    {
      "cell_type": "code",
      "metadata": {
        "colab": {
          "base_uri": "https://localhost:8080/"
        },
        "id": "NF5YPQsYh-g8",
        "outputId": "7b661988-a7b1-44f2-b1e4-69b616d64563"
      },
      "source": [
        "y_pred=perceptron(w,X)\n",
        "confusion_matrix(y,y_pred)"
      ],
      "execution_count": 114,
      "outputs": [
        {
          "output_type": "execute_result",
          "data": {
            "text/plain": [
              "array([[0, 1],\n",
              "       [0, 7]])"
            ]
          },
          "metadata": {
            "tags": []
          },
          "execution_count": 114
        }
      ]
    },
    {
      "cell_type": "markdown",
      "metadata": {
        "id": "rUalb7fvlM7J"
      },
      "source": [
        "## 学習パート"
      ]
    },
    {
      "cell_type": "code",
      "metadata": {
        "colab": {
          "base_uri": "https://localhost:8080/"
        },
        "id": "b2auKcqNlM7R",
        "outputId": "307ceb1d-85da-4db9-8efc-05e443542343"
      },
      "source": [
        "for i in range(epoch):\n",
        "  for j in range(len(y)):\n",
        "    error=y[j]-perceptron(w,X[j]) #エラーを計算\n",
        "    for k in range(len(w)):\n",
        "      if k==len(w)-1: #閾値の計算は例外\n",
        "        w[k] += error*learning_rate*1\n",
        "      else:\n",
        "        w[k] += error*learning_rate*X[j,k]\n",
        "print(w)"
      ],
      "execution_count": 116,
      "outputs": [
        {
          "output_type": "stream",
          "text": [
            "[ 0.92152365  0.78294563  0.02583021 -0.00561058]\n"
          ],
          "name": "stdout"
        }
      ]
    },
    {
      "cell_type": "markdown",
      "metadata": {
        "id": "xy-P9yyrlM7S"
      },
      "source": [
        "## 学習後の混同行列\n",
        "混同行列から3入力のOR関数の正答率が100%になっていることがわかる"
      ]
    },
    {
      "cell_type": "code",
      "metadata": {
        "colab": {
          "base_uri": "https://localhost:8080/"
        },
        "id": "orjJFbMklM7S",
        "outputId": "c72bc343-961b-41f6-f7c0-3678914f6fb1"
      },
      "source": [
        "y_pred=perceptron(w,X)\n",
        "confusion_matrix(y,y_pred)"
      ],
      "execution_count": 117,
      "outputs": [
        {
          "output_type": "execute_result",
          "data": {
            "text/plain": [
              "array([[1, 0],\n",
              "       [0, 7]])"
            ]
          },
          "metadata": {
            "tags": []
          },
          "execution_count": 117
        }
      ]
    }
  ]
}